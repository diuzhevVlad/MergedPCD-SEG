{
 "cells": [
  {
   "cell_type": "code",
   "execution_count": 1,
   "metadata": {},
   "outputs": [
    {
     "name": "stdout",
     "output_type": "stream",
     "text": [
      "Jupyter environment detected. Enabling Open3D WebVisualizer.\n",
      "[Open3D INFO] WebRTC GUI backend enabled.\n",
      "[Open3D INFO] WebRTCWindowSystem: HTTP handshake server disabled.\n"
     ]
    }
   ],
   "source": [
    "import numpy as np\n",
    "import open3d as o3d\n",
    "import matplotlib.pyplot as plt"
   ]
  },
  {
   "cell_type": "code",
   "execution_count": 2,
   "metadata": {},
   "outputs": [],
   "source": [
    "lidar_dir = \"../Huawei/dataset/sequences/03/velodyne\""
   ]
  },
  {
   "cell_type": "code",
   "execution_count": 3,
   "metadata": {},
   "outputs": [],
   "source": [
    "points = np.fromfile(f\"{lidar_dir}/000005.bin\", dtype=np.float32).reshape(-1, 4)\n",
    "pcd = o3d.geometry.PointCloud()\n",
    "pcd.points = o3d.utility.Vector3dVector(points[:, :3])"
   ]
  },
  {
   "cell_type": "code",
   "execution_count": 4,
   "metadata": {},
   "outputs": [
    {
     "data": {
      "text/plain": [
       "(44115,)"
      ]
     },
     "execution_count": 4,
     "metadata": {},
     "output_type": "execute_result"
    }
   ],
   "source": [
    "lower_mask = (points[:, 2] < -1) & (points[:, 2] > -2) #& (points[:, 0] < 15)\n",
    "lower_mask.shape"
   ]
  },
  {
   "cell_type": "code",
   "execution_count": 5,
   "metadata": {},
   "outputs": [],
   "source": [
    "from scipy.spatial import KDTree\n",
    "\n",
    "# Build a KD-tree for fast nearest neighbor search\n",
    "tree = KDTree(points[:, :2])  # Only use (X, Y) for search\n",
    "\n",
    "curb_threshold = 0.1  # Height difference to detect curbs\n",
    "curb_idxs = []\n",
    "\n",
    "for i, pt in zip(np.where(lower_mask)[0], points[lower_mask]):\n",
    "    # Find neighbors within 0.5m radius\n",
    "    _, idx = tree.query(pt[:2], k=10)\n",
    "    neighbors = points[idx]\n",
    "\n",
    "    # Compute height difference with neighbors\n",
    "    height_diffs = np.abs(neighbors[:, 2] - pt[2])\n",
    "\n",
    "    if np.max(height_diffs) > curb_threshold:\n",
    "        curb_idxs.append(i)\n",
    "\n",
    "curb_init_idxs = np.array(curb_idxs)\n",
    "curb_idxs = np.concatenate([curb_init_idxs, np.where(~lower_mask)[0]])\n"
   ]
  },
  {
   "cell_type": "code",
   "execution_count": 6,
   "metadata": {},
   "outputs": [
    {
     "data": {
      "text/plain": [
       "PointCloud with 30897 points."
      ]
     },
     "execution_count": 6,
     "metadata": {},
     "output_type": "execute_result"
    }
   ],
   "source": [
    "inlier_cloud = pcd.select_by_index(curb_idxs, invert=True)\n",
    "outlier_cloud = pcd.select_by_index(curb_idxs, invert=False)\n",
    "outlier_cloud.paint_uniform_color([1.0, 0, 0.0])"
   ]
  },
  {
   "cell_type": "code",
   "execution_count": 7,
   "metadata": {},
   "outputs": [
    {
     "data": {
      "image/png": "[encoded data removed]",
      "text/plain": [
       "<Figure size 640x480 with 1 Axes>"
      ]
     },
     "metadata": {},
     "output_type": "display_data"
    }
   ],
   "source": [
    "plt.hist(points[curb_init_idxs][:, 2],100);"
   ]
  },
  {
   "cell_type": "code",
   "execution_count": 8,
   "metadata": {},
   "outputs": [
    {
     "data": {
      "text/plain": [
       "-1.2150849"
      ]
     },
     "execution_count": 8,
     "metadata": {},
     "output_type": "execute_result"
    }
   ],
   "source": [
    "curb_height = np.median(points[curb_init_idxs][:, 2])\n",
    "curb_height"
   ]
  },
  {
   "cell_type": "code",
   "execution_count": 9,
   "metadata": {},
   "outputs": [],
   "source": [
    "road_ind = np.where(np.asarray(inlier_cloud.points)[:, 2] <= curb_height)[0]\n",
    "road_cloud = inlier_cloud.select_by_index(road_ind)\n",
    "pavement_cloud = inlier_cloud.select_by_index(road_ind, invert=True)"
   ]
  },
  {
   "cell_type": "code",
   "execution_count": 10,
   "metadata": {},
   "outputs": [
    {
     "name": "stderr",
     "output_type": "stream",
     "text": [
      "/tmp/ipykernel_114241/3249074590.py:4: FutureWarning: `rcond` parameter will change to the default of machine precision times ``max(M, N)`` where M and N are the input matrix dimensions.\n",
      "To use the future default and silence this warning we advise to pass `rcond=None`, to keep using the old, explicitly pass `rcond=-1`.\n",
      "  coef_road = np.linalg.lstsq(np.concatenate([road_pts[:,:2], np.ones((road_pts.shape[0], 1))], axis=1), road_pts[:,2])[0]\n",
      "/tmp/ipykernel_114241/3249074590.py:5: FutureWarning: `rcond` parameter will change to the default of machine precision times ``max(M, N)`` where M and N are the input matrix dimensions.\n",
      "To use the future default and silence this warning we advise to pass `rcond=None`, to keep using the old, explicitly pass `rcond=-1`.\n",
      "  coef_pave = np.linalg.lstsq(np.concatenate([pavement_pts[:,:2], np.ones((pavement_pts.shape[0], 1))], axis=1), pavement_pts[:,2])[0]\n"
     ]
    },
    {
     "data": {
      "text/plain": [
       "(array([ 4.25363323e-04, -1.97376508e-05, -1.41801583e+00]),\n",
       " array([-0.00733271,  0.01031866, -1.13429023]))"
      ]
     },
     "execution_count": 10,
     "metadata": {},
     "output_type": "execute_result"
    }
   ],
   "source": [
    "road_pts = np.asarray(road_cloud.points)\n",
    "pavement_pts = np.asarray(pavement_cloud.points)\n",
    "\n",
    "coef_road = np.linalg.lstsq(np.concatenate([road_pts[:,:2], np.ones((road_pts.shape[0], 1))], axis=1), road_pts[:,2])[0]\n",
    "coef_pave = np.linalg.lstsq(np.concatenate([pavement_pts[:,:2], np.ones((pavement_pts.shape[0], 1))], axis=1), pavement_pts[:,2])[0]\n",
    "coef_road, coef_pave"
   ]
  },
  {
   "cell_type": "code",
   "execution_count": 11,
   "metadata": {},
   "outputs": [],
   "source": [
    "road_res = np.concatenate([points[:,:2], np.ones((points.shape[0], 1))], axis=1) @ coef_road - points[:,2]\n",
    "pavement_res = np.concatenate([points[:,:2], np.ones((points.shape[0], 1))], axis=1) @ coef_pave - points[:,2]"
   ]
  },
  {
   "cell_type": "code",
   "execution_count": 12,
   "metadata": {},
   "outputs": [],
   "source": [
    "road_full_idxs = np.where((np.abs(road_res) < 0.06) & (np.abs(pavement_res) > 0.04))[0]\n",
    "pave_full_idxs = np.where((np.abs(road_res) > 0.06) & (np.abs(pavement_res) < 0.04))[0]\n",
    "out_full_idxs = np.where((np.abs(road_res) > 0.06) & (np.abs(pavement_res) > 0.04))[0]\n",
    "uncert_full_idxs = np.where((np.abs(road_res) < 0.06) & (np.abs(pavement_res) < 0.04))[0]"
   ]
  },
  {
   "cell_type": "code",
   "execution_count": 13,
   "metadata": {},
   "outputs": [],
   "source": [
    "road_cloud = pcd.select_by_index(road_full_idxs)\n",
    "pavement_cloud = pcd.select_by_index(pave_full_idxs)\n",
    "extra_out_cloud = pcd.select_by_index(out_full_idxs)\n",
    "uncert_cloud = pcd.select_by_index(uncert_full_idxs)"
   ]
  },
  {
   "cell_type": "code",
   "execution_count": 14,
   "metadata": {},
   "outputs": [],
   "source": [
    "road_cloud.paint_uniform_color([0.0, 0, 1.0])\n",
    "pavement_cloud.paint_uniform_color([0.0, 1.0, 0.0])\n",
    "extra_out_cloud.paint_uniform_color([1.0, 0.0, 0.0])\n",
    "uncert_cloud.paint_uniform_color([0.0, 1.0, 1.0]);"
   ]
  },
  {
   "cell_type": "code",
   "execution_count": 15,
   "metadata": {},
   "outputs": [],
   "source": [
    "o3d.visualization.draw_geometries(\n",
    "    [road_cloud, pavement_cloud, uncert_cloud, extra_out_cloud],\n",
    "    zoom=0.05,\n",
    "    front=[-0.1, -0.0, 0.1],\n",
    "    lookat=[2.1813, 2.0619, 2.0999],\n",
    "    up=[0.0, -0.0, 1.0],\n",
    ")"
   ]
  },
  {
   "cell_type": "code",
   "execution_count": null,
   "metadata": {},
   "outputs": [],
   "source": []
  }
 ],
 "metadata": {
  "kernelspec": {
   "display_name": "lc-nvlo",
   "language": "python",
   "name": "python3"
  },
  "language_info": {
   "codemirror_mode": {
    "name": "ipython",
    "version": 3
   },
   "file_extension": ".py",
   "mimetype": "text/x-python",
   "name": "python",
   "nbconvert_exporter": "python",
   "pygments_lexer": "ipython3",
   "version": "3.12.4"
  }
 },
 "nbformat": 4,
 "nbformat_minor": 2
}

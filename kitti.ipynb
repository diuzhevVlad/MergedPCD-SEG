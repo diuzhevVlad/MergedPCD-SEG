{
 "cells": [
  {
   "cell_type": "code",
   "execution_count": 1,
   "id": "50ef1421",
   "metadata": {},
   "outputs": [
    {
     "name": "stderr",
     "output_type": "stream",
     "text": [
      "/home/vladislav/miniconda3/envs/pointcept/lib/python3.8/site-packages/tqdm/auto.py:21: TqdmWarning: IProgress not found. Please update jupyter and ipywidgets. See https://ipywidgets.readthedocs.io/en/stable/user_install.html\n",
      "  from .autonotebook import tqdm as notebook_tqdm\n",
      "/home/vladislav/miniconda3/envs/pointcept/lib/python3.8/site-packages/timm/models/layers/__init__.py:48: FutureWarning: Importing from timm.models.layers is deprecated, please import via timm.layers\n",
      "  warnings.warn(f\"Importing from {__name__} is deprecated, please import via timm.layers\", FutureWarning)\n"
     ]
    }
   ],
   "source": [
    "# Install KISS-ICP and Plotting tools\n",
    "import os\n",
    "\n",
    "import numpy as np\n",
    "from kiss_icp.datasets import dataset_factory\n",
    "from kiss_icp.pipeline import OdometryPipeline\n",
    "import matplotlib.pyplot as plt\n",
    "import tqdm\n",
    "from model import PointTransformerV3\n",
    "import torch\n",
    "from collections import OrderedDict"
   ]
  },
  {
   "cell_type": "code",
   "execution_count": 2,
   "id": "431922e1",
   "metadata": {},
   "outputs": [],
   "source": [
    "segmodel = PointTransformerV3(\n",
    "    in_channels=4,\n",
    "    order=[\"z\", \"z-trans\", \"hilbert\", \"hilbert-trans\"],\n",
    "    stride=(2, 2, 2, 2),\n",
    "    enc_depths=(2, 2, 2, 6, 2),\n",
    "    enc_channels=(32, 64, 128, 256, 512),\n",
    "    enc_num_head=(2, 4, 8, 16, 32),\n",
    "    enc_patch_size=(128, 128, 128, 128, 128),\n",
    "    dec_depths=(2, 2, 2, 2),\n",
    "    dec_channels=(64, 64, 128, 256),\n",
    "    dec_num_head=(4, 4, 8, 16),\n",
    "    dec_patch_size=(128, 128, 128, 128),\n",
    "    mlp_ratio=4,\n",
    "    qkv_bias=True,\n",
    "    qk_scale=None,\n",
    "    attn_drop=0.0,\n",
    "    proj_drop=0.0,\n",
    "    drop_path=0.3,\n",
    "    shuffle_orders=True,\n",
    "    pre_norm=True,\n",
    "    enable_rpe=False,\n",
    "    enable_flash=False,\n",
    "    upcast_attention=False,\n",
    "    upcast_softmax=False,\n",
    "    cls_mode=False,\n",
    "    pdnorm_bn=False,\n",
    "    pdnorm_ln=False,\n",
    "    pdnorm_decouple=True,\n",
    "    pdnorm_adaptive=False,\n",
    "    pdnorm_affine=True,\n",
    "    pdnorm_conditions=(\"nuScenes\", \"SemanticKITTI\", \"Waymo\"),\n",
    ").cuda()\n",
    "seg_head = torch.nn.Linear(64, 19).cuda()\n",
    "\n",
    "checkpoint = torch.load(\n",
    "    \"best_model.pth\", map_location=lambda storage, loc: storage.cuda()\n",
    ")\n",
    "\n",
    "weight_backbone = OrderedDict()\n",
    "weight_seg_head = OrderedDict()\n",
    "\n",
    "for key, value in checkpoint.items():\n",
    "    if \"backbone\" in key:\n",
    "        weight_backbone[key.replace(\"module.backbone.\", \"\")] = value\n",
    "    elif \"seg_head\" in key:\n",
    "        weight_seg_head[key.replace(\"module.seg_head.\", \"\")] = value\n",
    "\n",
    "load_state_info1 = segmodel.load_state_dict(weight_backbone, strict=True)\n",
    "load_state_info2 = seg_head.load_state_dict(weight_seg_head, strict=True)\n",
    "assert load_state_info1 and load_state_info2"
   ]
  },
  {
   "cell_type": "code",
   "execution_count": 3,
   "id": "fd62b33e",
   "metadata": {},
   "outputs": [],
   "source": [
    "data_root = \"..\"\n",
    "sequence_root = os.path.join(data_root, \"Huawei/dataset/sequences/02\")\n",
    "save_root = os.path.join(data_root, \"Huawei/dataset/sequences/02\")\n",
    "lidar_root = os.path.join(sequence_root, \"velodyne\")\n",
    "labels_root = os.path.join(sequence_root, \"labels\")\n",
    "poses_path = os.path.join(sequence_root, \"poses.npy\")\n",
    "pred_root = os.path.join(save_root, \"predictions_norm\")\n",
    "\n",
    "# pipeline = OdometryPipeline(\n",
    "#     dataset=dataset_factory(\n",
    "#         dataloader=\"generic\",\n",
    "#         data_dir=lidar_root,\n",
    "#     )\n",
    "# )\n",
    "\n",
    "# seq_res = pipeline.run()\n",
    "# seq_res.print()\n",
    "# poses = np.asarray(pipeline.poses).reshape(len(pipeline.poses), 4, 4)\n",
    "poses = np.load(poses_path)"
   ]
  },
  {
   "cell_type": "code",
   "execution_count": 4,
   "id": "7a242c88",
   "metadata": {},
   "outputs": [
    {
     "data": {
      "text/plain": [
       "[<matplotlib.lines.Line2D at 0x7edf0807f100>]"
      ]
     },
     "execution_count": 4,
     "metadata": {},
     "output_type": "execute_result"
    },
    {
     "data": {
      "image/png": "[encoded data removed]",
      "text/plain": [
       "<Figure size 640x480 with 1 Axes>"
      ]
     },
     "metadata": {},
     "output_type": "display_data"
    }
   ],
   "source": [
    "plt.plot(poses[:,0,3], poses[:,1,3])"
   ]
  },
  {
   "cell_type": "code",
   "execution_count": 5,
   "id": "483e210c",
   "metadata": {},
   "outputs": [
    {
     "data": {
      "text/plain": [
       "1197"
      ]
     },
     "execution_count": 5,
     "metadata": {},
     "output_type": "execute_result"
    }
   ],
   "source": [
    "pcd_files = sorted(os.listdir(lidar_root))\n",
    "len(pcd_files)"
   ]
  },
  {
   "cell_type": "code",
   "execution_count": 6,
   "id": "a7faf349",
   "metadata": {},
   "outputs": [],
   "source": [
    "learning_map_inv = {\n",
    "            \"ignore_index\": -1,  # \"unlabeled\"\n",
    "            0: 10,  # \"car\"\n",
    "            1: 11,  # \"bicycle\"\n",
    "            2: 15,  # \"motorcycle\"\n",
    "            3: 18,  # \"truck\"\n",
    "            4: 20,  # \"other-vehicle\"\n",
    "            5: 30,  # \"person\"\n",
    "            6: 31,  # \"bicyclist\"\n",
    "            7: 32,  # \"motorcyclist\"\n",
    "            8: 40,  # \"road\"\n",
    "            9: 44,  # \"parking\"\n",
    "            10: 48,  # \"sidewalk\"\n",
    "            11: 49,  # \"other-ground\"\n",
    "            12: 50,  # \"building\"\n",
    "            13: 51,  # \"fence\"\n",
    "            14: 70,  # \"vegetation\"\n",
    "            15: 71,  # \"trunk\"\n",
    "            16: 72,  # \"terrain\"\n",
    "            17: 80,  # \"pole\"\n",
    "            18: 81,  # \"traffic-sign\"\n",
    "        }"
   ]
  },
  {
   "cell_type": "code",
   "execution_count": 7,
   "id": "2dc9f564",
   "metadata": {},
   "outputs": [],
   "source": [
    "def fnv_hash_vec(arr):\n",
    "    \"\"\"\n",
    "    FNV64-1A hash for a 2D array.\n",
    "    \"\"\"\n",
    "    assert arr.ndim == 2\n",
    "    arr = arr.copy()\n",
    "    arr = arr.astype(np.uint64, copy=False)\n",
    "    hashed_arr = np.uint64(14695981039346656037) * np.ones(arr.shape[0], dtype=np.uint64)\n",
    "    for j in range(arr.shape[1]):\n",
    "        hashed_arr *= np.uint64(1099511628211)\n",
    "        hashed_arr = np.bitwise_xor(hashed_arr, arr[:, j])\n",
    "    return hashed_arr"
   ]
  },
  {
   "cell_type": "code",
   "execution_count": 8,
   "id": "da3842ae",
   "metadata": {},
   "outputs": [],
   "source": [
    "def grid_sample(data, grid_size):\n",
    "    scaled_coord = data[:,:3] / np.array(grid_size)\n",
    "    grid_coord = np.floor(scaled_coord).astype(int)\n",
    "    min_coord = grid_coord.min(0)\n",
    "    grid_coord -= min_coord\n",
    "    scaled_coord -= min_coord\n",
    "    min_coord = min_coord * np.array(grid_size)\n",
    "    key = fnv_hash_vec(grid_coord)\n",
    "    idx_sort = np.argsort(key)\n",
    "    key_sort = key[idx_sort]\n",
    "    _, inverse, count = np.unique(key_sort, return_inverse=True, return_counts=True)\n",
    "    idx_select = (\n",
    "        np.cumsum(np.insert(count, 0, 0)[0:-1])\n",
    "        + np.random.randint(0, count.max(), count.size) % count\n",
    "    )\n",
    "    idx_unique = idx_sort[idx_select]\n",
    "    return data[idx_unique], grid_coord[idx_unique], min_coord.reshape([1, 3]), idx_sort, count, inverse, idx_select"
   ]
  },
  {
   "cell_type": "code",
   "execution_count": null,
   "id": "09dccf2b",
   "metadata": {},
   "outputs": [
    {
     "name": "stderr",
     "output_type": "stream",
     "text": [
      "100%|██████████| 1197/1197 [06:54<00:00,  2.88it/s]\n"
     ]
    }
   ],
   "source": [
    "pcd_heap = []\n",
    "pcd_lens = []\n",
    "pcd_ind = []\n",
    "heap_size = 1\n",
    "procceed_full = True\n",
    "with torch.no_grad():\n",
    "    for pcd_file_id in tqdm.tqdm(range(len(pcd_files))):\n",
    "        pts = np.fromfile(\n",
    "            os.path.join(lidar_root, pcd_files[pcd_file_id]), dtype=np.float32\n",
    "        ).reshape((-1, 4))\n",
    "        # pts[:,3] /= (254*140)\n",
    "\n",
    "        pts_hom = np.hstack([pts[:, :3], np.ones((pts.shape[0], 1), dtype=pts.dtype)])\n",
    "        transformed = (\n",
    "            poses[pcd_file_id]\n",
    "            @ pts_hom.T\n",
    "        ).T\n",
    "        pts[:, :3] = transformed[:, :3]\n",
    "        pcd_heap.append(pts.copy())\n",
    "        pcd_lens.append(pts.shape[0])\n",
    "        pcd_ind.append(pcd_file_id)\n",
    "        if len(pcd_heap) > heap_size:\n",
    "            pcd_heap.pop(0)\n",
    "            pcd_lens.pop(0)\n",
    "            pcd_ind.pop(0)\n",
    "        heaped_pts = np.vstack(pcd_heap)\n",
    "\n",
    "        \n",
    "\n",
    "        if procceed_full:\n",
    "            feat = torch.as_tensor(heaped_pts).cuda()\n",
    "            batch = torch.zeros(feat.shape[0],dtype=int).cuda()\n",
    "            data = {\n",
    "                \"feat\": feat,\n",
    "                \"coord\": feat[:,:3],\n",
    "                \"grid_size\": 0.05,\n",
    "                \"batch\": batch,\n",
    "            }\n",
    "            probs = torch.softmax(seg_head(segmodel(data)[\"feat\"]), dim=1)\n",
    "            labels = torch.argmax(probs, dim=1).cpu().numpy()\n",
    "            labels = np.vectorize(learning_map_inv.__getitem__)(\n",
    "                        labels & 0xFFFF\n",
    "                    ).astype(np.int32)\n",
    "            full_labels = labels\n",
    "\n",
    "        else: \n",
    "            feat, grid_coord, min_coord, idx_sort, count, inverse, idx_select = grid_sample(heaped_pts, 0.05)\n",
    "            feat = torch.as_tensor(feat).cuda()\n",
    "            grid_coord = torch.as_tensor(grid_coord).cuda()\n",
    "            batch = torch.zeros(feat.shape[0],dtype=int).cuda()\n",
    "            data = {\n",
    "                \"feat\": feat,\n",
    "                \"coord\": feat[:,:3],\n",
    "                \"grid_coord\": grid_coord,\n",
    "                \"batch\": batch,\n",
    "            }\n",
    "            probs = torch.softmax(seg_head(segmodel(data)[\"feat\"]), dim=1)\n",
    "            labels = torch.argmax(probs, dim=1).cpu().numpy()\n",
    "            labels = np.vectorize(learning_map_inv.__getitem__)(\n",
    "                        labels & 0xFFFF\n",
    "                    ).astype(np.int32)\n",
    "            unsorted_inverse = np.empty_like(inverse)\n",
    "            unsorted_inverse[idx_sort] = inverse\n",
    "            full_labels = labels[unsorted_inverse]\n",
    "\n",
    "        os.makedirs(pred_root, exist_ok=True)\n",
    "        cs = np.cumsum([0] + pcd_lens)\n",
    "        full_labels[cs[len(pcd_heap)//2]:cs[len(pcd_heap)//2+1]].tofile(os.path.join(pred_root, str(pcd_ind[len(pcd_heap)//2]).zfill(6)+\".label\"))\n",
    "        if pcd_file_id == len(pcd_files) - 1:\n",
    "            for i in range(len(pcd_heap)//2, heap_size):\n",
    "                full_labels[cs[i]:cs[1+i]].tofile(os.path.join(pred_root, str(pcd_ind[i]).zfill(6)+\".label\"))\n",
    "        \n",
    "        del data, heaped_pts, probs, feat, batch\n",
    "        torch.cuda.empty_cache()\n"
   ]
  },
  {
   "cell_type": "code",
   "execution_count": null,
   "id": "399dde81",
   "metadata": {},
   "outputs": [],
   "source": []
  }
 ],
 "metadata": {
  "kernelspec": {
   "display_name": "pointcept",
   "language": "python",
   "name": "python3"
  },
  "language_info": {
   "codemirror_mode": {
    "name": "ipython",
    "version": 3
   },
   "file_extension": ".py",
   "mimetype": "text/x-python",
   "name": "python",
   "nbconvert_exporter": "python",
   "pygments_lexer": "ipython3",
   "version": "3.8.20"
  }
 },
 "nbformat": 4,
 "nbformat_minor": 5
}

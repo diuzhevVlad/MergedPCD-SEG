{
 "cells": [
  {
   "cell_type": "code",
   "execution_count": 1,
   "metadata": {},
   "outputs": [
    {
     "name": "stdout",
     "output_type": "stream",
     "text": [
      "Jupyter environment detected. Enabling Open3D WebVisualizer.\n",
      "[Open3D INFO] WebRTC GUI backend enabled.\n",
      "[Open3D INFO] WebRTCWindowSystem: HTTP handshake server disabled.\n"
     ]
    },
    {
     "name": "stderr",
     "output_type": "stream",
     "text": [
      "/home/vladislav/miniconda3/envs/pointcept/lib/python3.8/site-packages/timm/models/layers/__init__.py:48: FutureWarning: Importing from timm.models.layers is deprecated, please import via timm.layers\n",
      "  warnings.warn(f\"Importing from {__name__} is deprecated, please import via timm.layers\", FutureWarning)\n"
     ]
    }
   ],
   "source": [
    "import numpy as np\n",
    "import open3d as o3d\n",
    "import matplotlib.pyplot as plt\n",
    "import CSF\n",
    "from sklearn.preprocessing import PolynomialFeatures\n",
    "from sklearn.linear_model import RANSACRegressor, LinearRegression\n",
    "from model import PointTransformerV3\n",
    "import torch\n",
    "from collections import OrderedDict"
   ]
  },
  {
   "cell_type": "code",
   "execution_count": 2,
   "metadata": {},
   "outputs": [],
   "source": [
    "segmodel = PointTransformerV3(\n",
    "    in_channels=4,\n",
    "    order=[\"z\", \"z-trans\", \"hilbert\", \"hilbert-trans\"],\n",
    "    stride=(2, 2, 2, 2),\n",
    "    enc_depths=(2, 2, 2, 6, 2),\n",
    "    enc_channels=(32, 64, 128, 256, 512),\n",
    "    enc_num_head=(2, 4, 8, 16, 32),\n",
    "    enc_patch_size=(128, 128, 128, 128, 128),\n",
    "    dec_depths=(2, 2, 2, 2),\n",
    "    dec_channels=(64, 64, 128, 256),\n",
    "    dec_num_head=(4, 4, 8, 16),\n",
    "    dec_patch_size=(128, 128, 128, 128),\n",
    "    mlp_ratio=4,\n",
    "    qkv_bias=True,\n",
    "    qk_scale=None,\n",
    "    attn_drop=0.0,\n",
    "    proj_drop=0.0,\n",
    "    drop_path=0.3,\n",
    "    shuffle_orders=True,\n",
    "    pre_norm=True,\n",
    "    enable_rpe=False,\n",
    "    enable_flash=False,\n",
    "    upcast_attention=False,\n",
    "    upcast_softmax=False,\n",
    "    cls_mode=False,\n",
    "    pdnorm_bn=False,\n",
    "    pdnorm_ln=False,\n",
    "    pdnorm_decouple=True,\n",
    "    pdnorm_adaptive=False,\n",
    "    pdnorm_affine=True,\n",
    "    pdnorm_conditions=(\"nuScenes\", \"SemanticKITTI\", \"Waymo\"),\n",
    ").cuda()\n",
    "seg_head = torch.nn.Linear(64, 19).cuda()\n",
    "\n",
    "checkpoint = torch.load(\n",
    "    \"best_model.pth\", map_location=lambda storage, loc: storage.cuda()\n",
    ")\n",
    "\n",
    "weight_backbone = OrderedDict()\n",
    "weight_seg_head = OrderedDict()\n",
    "\n",
    "for key, value in checkpoint.items():\n",
    "    if \"backbone\" in key:\n",
    "        weight_backbone[key.replace(\"module.backbone.\", \"\")] = value\n",
    "    elif \"seg_head\" in key:\n",
    "        weight_seg_head[key.replace(\"module.seg_head.\", \"\")] = value\n",
    "\n",
    "load_state_info1 = segmodel.load_state_dict(weight_backbone, strict=True)\n",
    "load_state_info2 = seg_head.load_state_dict(weight_seg_head, strict=True)\n",
    "assert load_state_info1 and load_state_info2"
   ]
  },
  {
   "cell_type": "code",
   "execution_count": 3,
   "metadata": {},
   "outputs": [],
   "source": [
    "lidar_dir = \"../Huawei/dataset/sequences/01/velodyne\"\n",
    "ORDER = 1"
   ]
  },
  {
   "cell_type": "code",
   "execution_count": 18,
   "metadata": {},
   "outputs": [],
   "source": [
    "points = np.fromfile(f\"{lidar_dir}/000263.bin\", dtype=np.float32).reshape(-1, 4)\n",
    "points = points[(points[:,0] > 0)]"
   ]
  },
  {
   "cell_type": "code",
   "execution_count": 19,
   "metadata": {},
   "outputs": [],
   "source": [
    "points[:,3] *= (255 / points[:,3].max())"
   ]
  },
  {
   "cell_type": "code",
   "execution_count": 20,
   "metadata": {},
   "outputs": [],
   "source": [
    "csf = CSF.CSF()\n",
    "csf.params.bSloopSmooth = False\n",
    "csf.params.cloth_resolution = 0.5\n",
    "csf.params.rigidness = 3"
   ]
  },
  {
   "cell_type": "code",
   "execution_count": 21,
   "metadata": {},
   "outputs": [
    {
     "name": "stdout",
     "output_type": "stream",
     "text": [
      "[0] Configuring terrain...\n",
      "[0]  - bbMin: 4.22618 -10.3201 -75.1189\n",
      "[0]  - bbMax: 124.4 13.7384 20.6946\n",
      "[0] Configuring cloth...\n",
      "[0]  - width: 244 height: 195\n",
      "[0] Rasterizing...\n",
      "[0] Simulating...\n"
     ]
    }
   ],
   "source": [
    "csf.setPointCloud(points[:,:3])\n",
    "ground = CSF.VecInt()  # a list to indicate the index of ground points after calculation\n",
    "non_ground = CSF.VecInt() # a list to indicate the index of non-ground points after calculation\n",
    "csf.do_filtering(ground, non_ground) # do actual filtering."
   ]
  },
  {
   "cell_type": "code",
   "execution_count": 22,
   "metadata": {},
   "outputs": [
    {
     "data": {
      "text/plain": [
       "((23966,), (15515,))"
      ]
     },
     "execution_count": 22,
     "metadata": {},
     "output_type": "execute_result"
    }
   ],
   "source": [
    "ground_idx = np.array(ground)\n",
    "non_ground_idx = np.array(non_ground)\n",
    "ground_idx.shape, non_ground_idx.shape"
   ]
  },
  {
   "cell_type": "code",
   "execution_count": 23,
   "metadata": {},
   "outputs": [],
   "source": [
    "ground_pts = points[:,:3][ground_idx]\n",
    "non_ground_pts = points[:,:3][non_ground_idx]\n",
    "pcd_ground = o3d.geometry.PointCloud()\n",
    "pcd_non_ground = o3d.geometry.PointCloud()\n",
    "\n",
    "pcd_ground.points = o3d.utility.Vector3dVector(ground_pts)\n",
    "pcd_non_ground.points = o3d.utility.Vector3dVector(non_ground_pts)\n",
    "\n",
    "pcd_ground.paint_uniform_color([0.0, 0, 1.0])\n",
    "pcd_non_ground.paint_uniform_color([1.0, 0, 0.0])\n",
    "\n",
    "\n",
    "o3d.visualization.draw_geometries(\n",
    "    [pcd_ground, pcd_non_ground],\n",
    "    zoom=0.05,\n",
    "    front=[-0.1, -0.0, 0.1],\n",
    "    lookat=[2.1813, 2.0619, 2.0999],\n",
    "    up=[0.0, -0.0, 1.0],\n",
    ")"
   ]
  },
  {
   "cell_type": "code",
   "execution_count": 24,
   "metadata": {},
   "outputs": [],
   "source": [
    "def fnv_hash_vec(arr):\n",
    "    \"\"\"\n",
    "    FNV64-1A hash for a 2D array.\n",
    "    \"\"\"\n",
    "    assert arr.ndim == 2\n",
    "    arr = arr.copy()\n",
    "    arr = arr.astype(np.uint64, copy=False)\n",
    "    hashed_arr = np.uint64(14695981039346656037) * np.ones(arr.shape[0], dtype=np.uint64)\n",
    "    for j in range(arr.shape[1]):\n",
    "        hashed_arr *= np.uint64(1099511628211)\n",
    "        hashed_arr = np.bitwise_xor(hashed_arr, arr[:, j])\n",
    "    return hashed_arr\n",
    "\n",
    "def grid_sample(data, grid_size):\n",
    "    scaled_coord = data[:,:3] / np.array(grid_size)\n",
    "    grid_coord = np.floor(scaled_coord).astype(int)\n",
    "    min_coord = grid_coord.min(0)\n",
    "    grid_coord -= min_coord\n",
    "    scaled_coord -= min_coord\n",
    "    min_coord = min_coord * np.array(grid_size)\n",
    "    key = fnv_hash_vec(grid_coord)\n",
    "    idx_sort = np.argsort(key)\n",
    "    key_sort = key[idx_sort]\n",
    "    _, inverse, count = np.unique(key_sort, return_inverse=True, return_counts=True)\n",
    "    idx_select = (\n",
    "        np.cumsum(np.insert(count, 0, 0)[0:-1])\n",
    "        + np.random.randint(0, count.max(), count.size) % count\n",
    "    )\n",
    "    idx_unique = idx_sort[idx_select]\n",
    "    return data[idx_unique], grid_coord[idx_unique], min_coord.reshape([1, 3]), idx_sort, count, inverse, idx_select"
   ]
  },
  {
   "cell_type": "code",
   "execution_count": 25,
   "metadata": {},
   "outputs": [],
   "source": [
    "feat, grid_coord, min_coord, idx_sort, count, inverse, idx_select = grid_sample(points[ground_idx], 0.05)\n",
    "# print(heaped_pts.shape, feat.shape)\n",
    "feat = torch.as_tensor(feat).cuda()\n",
    "grid_coord = torch.as_tensor(grid_coord).cuda()\n",
    "batch = torch.zeros(feat.shape[0],dtype=int).cuda()\n",
    "data = {\n",
    "    \"feat\": feat,\n",
    "    \"coord\": feat[:,:3],\n",
    "    \"grid_coord\": grid_coord,\n",
    "    \"batch\": batch,\n",
    "}\n",
    "probs = torch.softmax(seg_head(segmodel(data)[\"feat\"]), dim=1)\n",
    "labels = torch.argmax(probs, dim=1).cpu().numpy()\n",
    "unsorted_inverse = np.empty_like(inverse)\n",
    "unsorted_inverse[idx_sort] = inverse\n",
    "labels = labels[unsorted_inverse]"
   ]
  },
  {
   "cell_type": "code",
   "execution_count": 26,
   "metadata": {},
   "outputs": [],
   "source": [
    "pcd_road = pcd_ground.select_by_index(np.where(labels==8)[0])\n",
    "pcd_non_road = pcd_ground.select_by_index(np.where(labels==8)[0], invert=True)\n",
    "\n",
    "pcd_road.paint_uniform_color([0.0, 1.0, 0.0])\n",
    "pcd_non_road.paint_uniform_color([0.0, 0, 1.0])\n",
    "\n",
    "o3d.visualization.draw_geometries(\n",
    "    [pcd_road, pcd_non_road, pcd_non_ground],\n",
    "    zoom=0.05,\n",
    "    front=[-0.1, -0.0, 0.1],\n",
    "    lookat=[2.1813, 2.0619, 2.0999],\n",
    "    up=[0.0, -0.0, 1.0],\n",
    ")"
   ]
  },
  {
   "cell_type": "code",
   "execution_count": 27,
   "metadata": {},
   "outputs": [],
   "source": [
    "road_points = np.asarray(pcd_road.points)"
   ]
  },
  {
   "cell_type": "code",
   "execution_count": 28,
   "metadata": {},
   "outputs": [],
   "source": [
    "def fit_surface_ransac(points, order, distance_threshold=0.05):\n",
    "    \"\"\"\n",
    "    Fit a polynomial surface using RANSAC.\n",
    "    Returns: Residuals (deviation from the fitted surface).\n",
    "    \"\"\"\n",
    "    X = points[:, :2]  # XY coordinates (input features)\n",
    "    y = points[:, 2]   # Z (height, target)\n",
    "    \n",
    "    # Create polynomial features (e.g., [1, x, y, x², xy, y²] for order=2)\n",
    "    poly = PolynomialFeatures(degree=order, include_bias=True)\n",
    "    X_poly = poly.fit_transform(X)\n",
    "    \n",
    "    # RANSAC regressor (robust to outliers)\n",
    "    ransac = RANSACRegressor(\n",
    "        estimator=LinearRegression(),\n",
    "        residual_threshold=distance_threshold,\n",
    "        max_trials=100\n",
    "    )\n",
    "    ransac.fit(X_poly, y)\n",
    "    \n",
    "    # Predict and compute residuals\n",
    "    y_pred = ransac.predict(X_poly)\n",
    "    residuals = np.abs(y - y_pred)\n",
    "    \n",
    "    return residuals, ransac\n",
    "\n",
    "# Fit surface and compute residuals\n",
    "residuals, ransac_model = fit_surface_ransac(road_points, order=ORDER)"
   ]
  },
  {
   "cell_type": "code",
   "execution_count": 29,
   "metadata": {},
   "outputs": [],
   "source": [
    "# Set threshold (e.g., 95th percentile of residuals)\n",
    "threshold = np.percentile(residuals, 95)\n",
    "anomaly_mask = residuals > threshold\n",
    "\n",
    "# Get anomaly points\n",
    "anomaly_points = road_points[anomaly_mask]"
   ]
  },
  {
   "cell_type": "code",
   "execution_count": 30,
   "metadata": {},
   "outputs": [],
   "source": [
    "pcd_road_pure = pcd_road.select_by_index(np.where(anomaly_mask)[0], invert=True)\n",
    "pcd_road_anom = pcd_road.select_by_index(np.where(anomaly_mask)[0])\n",
    "pcd_road_anom.paint_uniform_color([0.0, 1.0, 1.0])\n",
    "\n",
    "\n",
    "o3d.visualization.draw_geometries(\n",
    "    [pcd_road_pure, pcd_road_anom,  pcd_non_road, pcd_non_ground],\n",
    "    zoom=0.05,\n",
    "    front=[-0.1, -0.0, 0.1],\n",
    "    lookat=[2.1813, 2.0619, 2.0999],\n",
    "    up=[0.0, -0.0, 1.0],\n",
    ")"
   ]
  },
  {
   "cell_type": "code",
   "execution_count": 31,
   "metadata": {},
   "outputs": [],
   "source": [
    "poly = PolynomialFeatures(degree=ORDER, include_bias=True)\n",
    "X_poly = poly.fit_transform(ground_pts[:,:2])\n",
    "Y_poly = ransac_model.predict(X_poly)\n",
    "residuals = np.abs(Y_poly - ground_pts[:,2])\n",
    "\n",
    "pcd_road = pcd_ground.select_by_index(np.where(residuals <= threshold)[0])\n",
    "pcd_non_road = pcd_ground.select_by_index(np.where(residuals <= threshold)[0], invert=True)\n",
    "\n",
    "pcd_road.paint_uniform_color([0.0, 1.0, 0.0])\n",
    "pcd_non_road.paint_uniform_color([0.0, 0, 1.0])\n",
    "\n",
    "o3d.visualization.draw_geometries(\n",
    "    [pcd_road, pcd_non_road, pcd_non_ground],\n",
    "    zoom=0.05,\n",
    "    front=[-0.1, -0.0, 0.1],\n",
    "    lookat=[2.1813, 2.0619, 2.0999],\n",
    "    up=[0.0, -0.0, 1.0],\n",
    ")"
   ]
  },
  {
   "cell_type": "code",
   "execution_count": null,
   "metadata": {},
   "outputs": [],
   "source": []
  }
 ],
 "metadata": {
  "kernelspec": {
   "display_name": "pointcept",
   "language": "python",
   "name": "python3"
  },
  "language_info": {
   "codemirror_mode": {
    "name": "ipython",
    "version": 3
   },
   "file_extension": ".py",
   "mimetype": "text/x-python",
   "name": "python",
   "nbconvert_exporter": "python",
   "pygments_lexer": "ipython3",
   "version": "3.8.20"
  }
 },
 "nbformat": 4,
 "nbformat_minor": 2
}
